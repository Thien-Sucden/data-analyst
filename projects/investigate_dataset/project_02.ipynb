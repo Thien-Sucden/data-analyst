{
 "cells": [
  {
   "cell_type": "code",
   "execution_count": 2,
   "id": "fb0d46f1",
   "metadata": {},
   "outputs": [
    {
     "name": "stdout",
     "output_type": "stream",
     "text": [
      "<class 'pandas.core.frame.DataFrame'>\n",
      "RangeIndex: 110527 entries, 0 to 110526\n",
      "Data columns (total 14 columns):\n",
      " #   Column          Non-Null Count   Dtype  \n",
      "---  ------          --------------   -----  \n",
      " 0   PatientId       110527 non-null  float64\n",
      " 1   AppointmentID   110527 non-null  int64  \n",
      " 2   Gender          110527 non-null  object \n",
      " 3   ScheduledDay    110527 non-null  object \n",
      " 4   AppointmentDay  110527 non-null  object \n",
      " 5   Age             110527 non-null  int64  \n",
      " 6   Neighbourhood   110527 non-null  object \n",
      " 7   Scholarship     110527 non-null  int64  \n",
      " 8   Hipertension    110527 non-null  int64  \n",
      " 9   Diabetes        110527 non-null  int64  \n",
      " 10  Alcoholism      110527 non-null  int64  \n",
      " 11  Handcap         110527 non-null  int64  \n",
      " 12  SMS_received    110527 non-null  int64  \n",
      " 13  No-show         110527 non-null  object \n",
      "dtypes: float64(1), int64(8), object(5)\n",
      "memory usage: 11.8+ MB\n"
     ]
    }
   ],
   "source": [
    "import pandas as pd\n",
    "import matplotlib.pyplot as plt\n",
    "import numpy as np\n",
    "#% matplotlib inline\n",
    "df = pd.read_csv('KaggleV2-May-2016.csv')\n",
    "df.info()"
   ]
  },
  {
   "cell_type": "code",
   "execution_count": null,
   "id": "4ff13813",
   "metadata": {},
   "outputs": [],
   "source": [
    "df.drop(['PatientId','AppointmentID'],axis=1,inplace = True)\n",
    "df.head()\n"
   ]
  },
  {
   "cell_type": "code",
   "execution_count": null,
   "id": "ac80590d",
   "metadata": {},
   "outputs": [],
   "source": [
    "sum(df.duplicated())"
   ]
  },
  {
   "cell_type": "code",
   "execution_count": null,
   "id": "111695f1",
   "metadata": {},
   "outputs": [],
   "source": [
    "df['Gender'].hist()"
   ]
  },
  {
   "cell_type": "code",
   "execution_count": null,
   "id": "65dc248b",
   "metadata": {},
   "outputs": [],
   "source": [
    "df.drop(df.query(\"Age==-1\").index,inplace = True)\n",
    "df.Age.describe()"
   ]
  },
  {
   "cell_type": "markdown",
   "id": "a6b92b75",
   "metadata": {},
   "source": []
  },
  {
   "cell_type": "raw",
   "id": "503f65d2",
   "metadata": {},
   "source": []
  },
  {
   "cell_type": "code",
   "execution_count": 3,
   "id": "5967d586",
   "metadata": {},
   "outputs": [
    {
     "data": {
      "text/plain": [
       "9.826558216544374"
      ]
     },
     "execution_count": 3,
     "metadata": {},
     "output_type": "execute_result"
    }
   ],
   "source": [
    "Enrolled = df.Scholarship==True\n",
    "df[df.Scholarship==True]['No-show'].count()/df['Scholarship'].count()*100\n"
   ]
  },
  {
   "cell_type": "code",
   "execution_count": null,
   "id": "07ed9604",
   "metadata": {
    "scrolled": true
   },
   "outputs": [],
   "source": [
    "#df.hist(figsize=(12,10));\n",
    "#df_gender = df(['Gender','No-show']).plot()\n",
    "#df_gender\n",
    "df_gender = df['Gender']=='M'\n",
    "\n",
    "M_count = df.Gender[df_gender]\n",
    "M_count.count()"
   ]
  },
  {
   "cell_type": "raw",
   "id": "5df1ac5a",
   "metadata": {},
   "source": []
  },
  {
   "cell_type": "code",
   "execution_count": 43,
   "id": "97e7c9e7",
   "metadata": {},
   "outputs": [
    {
     "name": "stderr",
     "output_type": "stream",
     "text": [
      "<ipython-input-43-18f9d051a9a5>:3: UserWarning: Boolean Series key will be reindexed to match DataFrame index.\n",
      "  M_notshow = df[df['Gender']=='M'][df['No-show']=='Yes']['PatientId']\n"
     ]
    },
    {
     "data": {
      "text/plain": [
       "19.967947889471915"
      ]
     },
     "execution_count": 43,
     "metadata": {},
     "output_type": "execute_result"
    }
   ],
   "source": [
    "df_notshow= df['No-show']=='Yes'\n",
    "\n",
    "M_notshow = df[df['Gender']=='M'][df['No-show']=='Yes']['PatientId']\n",
    "\n",
    "M_notshow.count()/df[df['Gender']=='M']['PatientId'].count()*100\n",
    "\n",
    "\n",
    "\n",
    "\n"
   ]
  },
  {
   "cell_type": "code",
   "execution_count": 54,
   "id": "46a8f254",
   "metadata": {},
   "outputs": [
    {
     "data": {
      "text/plain": [
       "<matplotlib.legend.Legend at 0x293d4c1a880>"
      ]
     },
     "execution_count": 54,
     "metadata": {},
     "output_type": "execute_result"
    },
    {
     "data": {
      "image/png": "[encoded data removed]",
      "text/plain": [
       "<Figure size 432x288 with 1 Axes>"
      ]
     },
     "metadata": {
      "needs_background": "light"
     },
     "output_type": "display_data"
    }
   ],
   "source": [
    "Enrolled=df.Scholarship==True\n",
    "Enrolled=df.Scholarship==False\n",
    "df.Scholarship[df.Scholarship==False].hist(label='Not_join')\n",
    "df.Scholarship[df.Scholarship==True].hist(label ='Join')\n",
    "plt.legend()\n",
    "\n",
    "\n"
   ]
  },
  {
   "cell_type": "code",
   "execution_count": null,
   "id": "a6bbef58",
   "metadata": {},
   "outputs": [],
   "source": []
  }
 ],
 "metadata": {
  "kernelspec": {
   "display_name": "Python 3",
   "language": "python",
   "name": "python3"
  },
  "language_info": {
   "codemirror_mode": {
    "name": "ipython",
    "version": 3
   },
   "file_extension": ".py",
   "mimetype": "text/x-python",
   "name": "python",
   "nbconvert_exporter": "python",
   "pygments_lexer": "ipython3",
   "version": "3.8.8"
  }
 },
 "nbformat": 4,
 "nbformat_minor": 5
}
